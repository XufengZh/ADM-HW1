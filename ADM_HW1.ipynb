{
 "cells": [
  {
   "cell_type": "markdown",
   "metadata": {
    "id": "h-Iz0a-WttXS"
   },
   "source": [
    "# ADM Homework 1\n",
    "*Xufeng Zhang, 2015060*\n",
    "\n",
    "*zhangxufeng1998@gmail.com*"
   ]
  },
  {
   "cell_type": "markdown",
   "metadata": {
    "id": "EqAFr-D5FWoL"
   },
   "source": [
    "## Problem 1"
   ]
  },
  {
   "cell_type": "markdown",
   "metadata": {
    "id": "dFBtTgv5uAM1"
   },
   "source": [
    "### Introduction (total 7)"
   ]
  },
  {
   "cell_type": "code",
   "execution_count": null,
   "metadata": {
    "id": "5m_qAaqUtmjT"
   },
   "outputs": [],
   "source": [
    "# 1 say hello world in python\n",
    "\n",
    "print(\"Hello, World!\")"
   ]
  },
  {
   "cell_type": "code",
   "execution_count": null,
   "metadata": {
    "id": "Z38nLMg3uac2"
   },
   "outputs": [],
   "source": [
    "# 2 Python If-Else\n",
    "\n",
    "import math\n",
    "import os\n",
    "import random\n",
    "import re\n",
    "import sys\n",
    "\n",
    "if __name__ == '__main__':\n",
    "    n = int(input().strip())\n",
    "    if n%2 == 1:\n",
    "        print(\"Weird\")\n",
    "    elif 6<= n <= 20:\n",
    "        print(\"Weird\")\n",
    "    else:\n",
    "        print(\"Not Weird\")"
   ]
  },
  {
   "cell_type": "code",
   "execution_count": null,
   "metadata": {
    "id": "iGaoAUICuaZU"
   },
   "outputs": [],
   "source": [
    "# 3 Arithmetic Operators\n",
    "\n",
    "if __name__ == '__main__':\n",
    "    a = int(input())\n",
    "    b = int(input())\n",
    "    print(a+b)\n",
    "    print(a-b)\n",
    "    print(a*b)"
   ]
  },
  {
   "cell_type": "code",
   "execution_count": null,
   "metadata": {
    "id": "vBSAouO8uaXY"
   },
   "outputs": [],
   "source": [
    "# 4 Python: Division\n",
    "\n",
    "if __name__ == '__main__':\n",
    "    a = int(input())\n",
    "    b = int(input())\n",
    "    c=int(a/b)\n",
    "    print(c)\n",
    "    print(a/b)"
   ]
  },
  {
   "cell_type": "code",
   "execution_count": null,
   "metadata": {
    "id": "Y3efHAsRuaUo"
   },
   "outputs": [],
   "source": [
    "# 5 Loops\n",
    "\n",
    "if __name__ == '__main__':\n",
    "    n = int(input())\n",
    "    if n < 0:\n",
    "        print(\"error!\")\n",
    "    else:\n",
    "        for i in range(0,n):\n",
    "            a=i*i\n",
    "            print(a)"
   ]
  },
  {
   "cell_type": "code",
   "execution_count": null,
   "metadata": {
    "id": "IIeSZtzhuaR8"
   },
   "outputs": [],
   "source": [
    "# 6 Write a Function\n",
    "\n",
    "def is_leap(year):\n",
    "    leap = False\n",
    "    if year%400 == 0:\n",
    "        leap = True\n",
    "    elif year%100 == 0:\n",
    "        leap = False\n",
    "    elif year%4 == 0:\n",
    "        leap = True      \n",
    "    return leap"
   ]
  },
  {
   "cell_type": "code",
   "execution_count": null,
   "metadata": {
    "id": "z9HyqBT-uaPe"
   },
   "outputs": [],
   "source": [
    "# 7 Print Function\n",
    "\n",
    "if __name__ == '__main__':\n",
    "    n = int(input())\n",
    "    str1=\"\"\n",
    "    for i in range(1,n+1):\n",
    "        stri = str(i)\n",
    "        str1 = str1 + stri\n",
    "    print(str1)"
   ]
  },
  {
   "cell_type": "markdown",
   "metadata": {
    "id": "W_lDsIMEvT9M"
   },
   "source": [
    "### Data types (total:6)"
   ]
  },
  {
   "cell_type": "code",
   "execution_count": null,
   "metadata": {
    "id": "VDLoooTOvgTB"
   },
   "outputs": [],
   "source": [
    "# 1 List Comprehensions\n",
    "\n",
    "if __name__ == '__main__':\n",
    "    x = int(input())\n",
    "    y = int(input())\n",
    "    z = int(input())\n",
    "    n = int(input())\n",
    "    print(\"[\",end=\"\")\n",
    "    for i in range(0,x+1):\n",
    "        for j in range(0,y+1):\n",
    "            for k in range (0,z+1):\n",
    "                if i+j+k != n:\n",
    "                    print([i,j,k],end='')\n",
    "                    if i+j+k != x+y+z:\n",
    "                        print(\", \",end='')\n",
    "    print(\"]\")"
   ]
  },
  {
   "cell_type": "code",
   "execution_count": null,
   "metadata": {
    "id": "dNxcnLh6vgI2"
   },
   "outputs": [],
   "source": [
    "# 2 Find the Runner-Up Score!\n",
    "\n",
    "if __name__ == '__main__':\n",
    "    n = int(input())\n",
    "    arr = map(int, input().split())\n",
    "    arr=list(arr)\n",
    "    sortlist = sorted(arr)\n",
    "    arrmax = sortlist[-1]\n",
    "    smax = sortlist[0]\n",
    "    if n >10:\n",
    "        n = 10\n",
    "    for i in range(0,n):\n",
    "        if (arr[i] < arrmax) and (arr[i]>=smax):\n",
    "            smax = arr[i]\n",
    "    print(smax)"
   ]
  },
  {
   "cell_type": "code",
   "execution_count": null,
   "metadata": {
    "id": "lJpYBBBuvgAB"
   },
   "outputs": [],
   "source": [
    "# 3 Nested Lists\n",
    "\n",
    "n = int(input())\n",
    "mp = {}\n",
    "L = set([])\n",
    "st = []\n",
    "for i in range(n):\n",
    "    name = input()\n",
    "    score = float(input())\n",
    "    mp[name] = score\n",
    "    L.add(score)\n",
    "L2 = sorted(L)\n",
    "u = L2[1]\n",
    "for k, v in mp.items():\n",
    "    if v == u:\n",
    "        st.append(k)\n",
    "st2 = sorted(st, key=str.lower)\n",
    "for a in st2:\n",
    "    print(a)"
   ]
  },
  {
   "cell_type": "code",
   "execution_count": null,
   "metadata": {
    "id": "5E2yiH4gvf0T"
   },
   "outputs": [],
   "source": [
    "# 4 Finding the percentage\n",
    "\n",
    "if __name__ == '__main__':\n",
    "    n = int(input())\n",
    "    student_marks = {}\n",
    "    for _ in range(n):\n",
    "        name, *line = input().split()\n",
    "        scores = list(map(float, line))\n",
    "        student_marks[name] = scores\n",
    "    query_name = input()\n",
    "    \n",
    "    query=student_marks[query_name]\n",
    "    query=list(query)\n",
    "    sum=0\n",
    "    for i in range(0,len(query)):\n",
    "        sum=sum+query[i]\n",
    "    aver=sum/len(query)\n",
    "    print(format(aver,'.2f'))"
   ]
  },
  {
   "cell_type": "code",
   "execution_count": null,
   "metadata": {
    "id": "BxoiXv8KuaEu"
   },
   "outputs": [],
   "source": [
    "# 5 Lists\n",
    "\n",
    "if __name__ == '__main__':\n",
    "    N = int(input())\n",
    "    L = []\n",
    "    for i in range(N):\n",
    "        s = input().split()\n",
    "        dem = s[0]\n",
    "        args = s[1:]\n",
    "        if dem != 'print':\n",
    "            eval('L.' + dem + '(' + ', '.join(args) + ')')\n",
    "        else:\n",
    "            print(L)"
   ]
  },
  {
   "cell_type": "code",
   "execution_count": null,
   "metadata": {
    "id": "cvcxVoNLuZsq"
   },
   "outputs": [],
   "source": [
    "# 6 Tuples\n",
    "\n",
    "input()\n",
    "xtuple=map(int,input().strip().split(\" \"))\n",
    "xtuple=tuple(xtuple)\n",
    "a=hash(xtuple)\n",
    "print(a)"
   ]
  },
  {
   "cell_type": "markdown",
   "metadata": {
    "id": "xYd__3bwxypH"
   },
   "source": [
    "### Strings (total 14)"
   ]
  },
  {
   "cell_type": "code",
   "execution_count": null,
   "metadata": {
    "id": "Ga_liAtex614"
   },
   "outputs": [],
   "source": [
    "# 1 aWAP cASE\n",
    "\n",
    "def swap_case(s):\n",
    "    answer = \"\"\n",
    "    for i in s:\n",
    "        if i == i.upper():\n",
    "            answer = answer + i.lower()\n",
    "        else:\n",
    "            answer = answer + i.upper()\n",
    "    return answer\n",
    "    return\n",
    "\n",
    "if __name__ == '__main__':\n",
    "    s = input()\n",
    "    result = swap_case(s)\n",
    "    print(result)"
   ]
  },
  {
   "cell_type": "code",
   "execution_count": null,
   "metadata": {
    "id": "0Oo6TZPhx6qz"
   },
   "outputs": [],
   "source": [
    "# 2 String Split and Join\n",
    "\n",
    "def split_and_join(line):\n",
    "    line = line.split(\" \")\n",
    "    line = \"-\".join(line)\n",
    "    return line\n",
    "\n",
    "if __name__ == '__main__':\n",
    "    line = input()\n",
    "    result = split_and_join(line)\n",
    "    print(result)"
   ]
  },
  {
   "cell_type": "code",
   "execution_count": null,
   "metadata": {
    "id": "2RwUv2_7x6fL"
   },
   "outputs": [],
   "source": [
    "# 3 What's your name？\n",
    "\n",
    "# Complete the 'print_full_name' function below.\n",
    "#\n",
    "# The function is expected to return a STRING.\n",
    "# The function accepts following parameters:\n",
    "#  1. STRING first\n",
    "#  2. STRING last\n",
    "#\n",
    "\n",
    "def print_full_name(first, last):\n",
    "    print(\"Hello \",end=\"\")\n",
    "    print(first,end=\"\")\n",
    "    print(\" \",end=\"\")\n",
    "    print(last,end=\"\")\n",
    "    print(\"! You just delved into python.\")\n",
    "if __name__ == '__main__':\n",
    "    first_name = input()\n",
    "    last_name = input()\n",
    "    print_full_name(first_name, last_name)"
   ]
  },
  {
   "cell_type": "code",
   "execution_count": null,
   "metadata": {
    "id": "73MyEC3Nx6UG"
   },
   "outputs": [],
   "source": [
    "# 4 Mutations\n",
    "\n",
    "def mutate_string(s,i,c):\n",
    "    string = s[:i] + c + s[i+1:]\n",
    "    return string\n",
    "    \n",
    "if __name__ == '__main__':\n",
    "    s = input()\n",
    "    i, c = input().split()\n",
    "    s_new = mutate_string(s, int(i), c)\n",
    "    print(s_new)"
   ]
  },
  {
   "cell_type": "code",
   "execution_count": null,
   "metadata": {
    "id": "i222prCqx6JW"
   },
   "outputs": [],
   "source": [
    "# 5 Find a String\n",
    "\n",
    "def count_substring(string, sub_string):\n",
    "    sublen = len(sub_string)\n",
    "    sum=0\n",
    "    for i in range(0,len(string)):\n",
    "        if string[i] == sub_string[0]:\n",
    "            if string[i:sublen+i] == sub_string:\n",
    "                sum = sum+1\n",
    "    return sum\n",
    "\n",
    "if __name__ == '__main__':\n",
    "    string = input().strip()\n",
    "    sub_string = input().strip()\n",
    "    \n",
    "    count = count_substring(string, sub_string)\n",
    "    print(count)"
   ]
  },
  {
   "cell_type": "code",
   "execution_count": null,
   "metadata": {
    "id": "cA-NgE8Ox59h"
   },
   "outputs": [],
   "source": [
    "# 6 String Validators\n",
    "\n",
    "if __name__ == '__main__':\n",
    "    s = input()\n",
    "    line = list(s)\n",
    "    a,b,c,d,e=False,False,False,False,False\n",
    "    for i in line:\n",
    "        if i.isalnum():\n",
    "            a=True\n",
    "        if i.isalpha():\n",
    "            b=True\n",
    "        if i.isdigit():\n",
    "            c=True\n",
    "        if i.islower():\n",
    "            d=True\n",
    "        if i.isupper():\n",
    "            e=True\n",
    "        \n",
    "    print(a)\n",
    "    print(b)\n",
    "    print(c)\n",
    "    print(d)\n",
    "    print(e)"
   ]
  },
  {
   "cell_type": "code",
   "execution_count": null,
   "metadata": {
    "id": "ZSgol6VKx5xx"
   },
   "outputs": [],
   "source": [
    "# 7 Text Alignment\n",
    "\n",
    "#Replace all ______ with rjust, ljust or center. \n",
    "\n",
    "thickness = int(input()) #This must be an odd number\n",
    "c = 'H'\n",
    "\n",
    "#Top Cone\n",
    "for i in range(thickness):\n",
    "    print((c*i).rjust(thickness-1)+c+(c*i).ljust(thickness-1))\n",
    "\n",
    "#Top Pillars\n",
    "for i in range(thickness+1):\n",
    "    print((c*thickness).center(thickness*2)+(c*thickness).center(thickness*6))\n",
    "\n",
    "#Middle Belt\n",
    "for i in range((thickness+1)//2):\n",
    "    print((c*thickness*5).center(thickness*6))    \n",
    "\n",
    "#Bottom Pillars\n",
    "for i in range(thickness+1):\n",
    "    print((c*thickness).center(thickness*2)+(c*thickness).center(thickness*6))    \n",
    "\n",
    "#Bottom Cone\n",
    "for i in range(thickness):\n",
    "    print(((c*(thickness-i-1)).rjust(thickness)+c+(c*(thickness-i-1)).ljust(thickness)).rjust(thickness*6))"
   ]
  },
  {
   "cell_type": "code",
   "execution_count": null,
   "metadata": {
    "id": "ib5qDB5-x5mt"
   },
   "outputs": [],
   "source": [
    "# 8 Text Wrap\n",
    "\n",
    "import textwrap\n",
    "def wrap(string, max_width):\n",
    "    last = len(string)%max_width\n",
    "    nub = int(len(string)/max_width)\n",
    "    cunt=0\n",
    "    for i in range(1,nub+2):\n",
    "        string = string[:i*max_width+cunt]+'\\n'+string[i*max_width+cunt:]\n",
    "        cunt=cunt+1\n",
    "    return string\n",
    "\n",
    "if __name__ == '__main__':\n",
    "    string, max_width = input(), int(input())\n",
    "    result = wrap(string, max_width)\n",
    "    print(result)\n"
   ]
  },
  {
   "cell_type": "code",
   "execution_count": null,
   "metadata": {
    "id": "UdCyjSZAx5b-"
   },
   "outputs": [],
   "source": [
    "# 9 Designer Door Mat\n",
    "\n",
    "# Enter your code here. Read input from STDIN. Print output to STDOUT\n",
    "N, M = map(int, input().split(\" \"))\n",
    "symb='.|.'\n",
    "for i in range(1,N,2): \n",
    "    print((i*symb).center(M,'-'))\n",
    "    \n",
    "print('WELCOME'.center(M,'-')) \n",
    "\n",
    "for i in range(N-2,-1,-2): \n",
    "    print((i*symb).center(M, '-'))\n"
   ]
  },
  {
   "cell_type": "code",
   "execution_count": null,
   "metadata": {
    "id": "THUSchzpx5RZ"
   },
   "outputs": [],
   "source": [
    "# 10 String Formatting\n",
    "\n",
    "def print_formatted(number):\n",
    "    l=len(bin(number)[2:])\n",
    "    for i in range(1, number + 1): \n",
    "        floatVar = str(i) \n",
    "        octVar = str(oct(i)[2:]) \n",
    "        hexVar = str(hex(i)[2:]).upper() \n",
    "        binVar = str(bin(i)[2:]) \n",
    "        print(floatVar.rjust(l)+' '+octVar.rjust(l)+' '+hexVar.upper().rjust(l)+' '+binVar.rjust(l))\n",
    "        \n",
    "if __name__ == '__main__':\n",
    "    n = int(input())\n",
    "    print_formatted(n)"
   ]
  },
  {
   "cell_type": "code",
   "execution_count": null,
   "metadata": {
    "id": "lmWjjc3gx5GN"
   },
   "outputs": [],
   "source": [
    "# 11 Alphabet Rangoli\n",
    "\n",
    "# Learn it from discussion part \n",
    "# main part created by roger_eppich\n",
    "def print_rangoli(size):\n",
    "    Str = 'abcdefghijklmnopqrstuvwxyz'[0:size]\n",
    "\n",
    "    for i in range(size-1, -size, -1):\n",
    "        x = abs(i)\n",
    "        if x >= 0:\n",
    "            line = Str[size:x:-1]+Str[x:size]\n",
    "            print (\"--\"*x+ '-'.join(line)+\"--\"*x)\n",
    "\n",
    "if __name__ == '__main__':\n",
    "    n = int(input())\n",
    "    print_rangoli(n)\n",
    "            "
   ]
  },
  {
   "cell_type": "code",
   "execution_count": null,
   "metadata": {
    "id": "owNaep5Bx47H"
   },
   "outputs": [],
   "source": [
    "# 12 Capitalize\n",
    "\n",
    "#!/bin/python3\n",
    "\n",
    "import math\n",
    "import os\n",
    "import random\n",
    "import re\n",
    "import sys\n",
    "\n",
    "def solve(s):\n",
    "    s = s.split(\" \")\n",
    "    for i in range(0,len(s)):\n",
    "        a = s[i].capitalize()\n",
    "        s[i] = a\n",
    "    answer = (\" \".join(s))\n",
    "    return answer\n",
    "\n",
    "if __name__ == '__main__':\n",
    "    fptr = open(os.environ['OUTPUT_PATH'], 'w')\n",
    "\n",
    "    s = input()\n",
    "\n",
    "    result = solve(s)\n",
    "\n",
    "    fptr.write(result + '\\n')\n",
    "\n",
    "    fptr.close()\n"
   ]
  },
  {
   "cell_type": "code",
   "execution_count": null,
   "metadata": {
    "id": "gRI-oUQIx4wI"
   },
   "outputs": [],
   "source": [
    "# 13 The Minion Game\n",
    "\n",
    "#learn it from discussion part\n",
    "def minion_game(string):\n",
    "\n",
    "    vowels = 'AEIOU'\n",
    "\n",
    "    kevsc = 0\n",
    "    stusc = 0\n",
    "    for i in range(len(string)):\n",
    "        if s[i] in vowels:\n",
    "            kevsc += (len(string)-i)\n",
    "        else:\n",
    "            stusc += (len(string)-i)\n",
    "\n",
    "    if kevsc > stusc:\n",
    "        print(\"Kevin\", kevsc)\n",
    "    elif kevsc < stusc:\n",
    "        print(\"Stuart\", stusc)\n",
    "    else:\n",
    "        print(\"Draw\")\n",
    "\n",
    "if __name__ == '__main__':\n",
    "    s = input()\n",
    "    minion_game(s)"
   ]
  },
  {
   "cell_type": "code",
   "execution_count": null,
   "metadata": {
    "id": "6pyZNg4kx4lQ"
   },
   "outputs": [],
   "source": [
    "# 14 Merge the Tools!\n",
    "\n",
    "def merge_the_tools(string, k):\n",
    "    for i in range(0, len(string), k):\n",
    "        s = \"\"\n",
    "        for j in string[i:i+k]:\n",
    "            if j in s:\n",
    "                continue\n",
    "            else:\n",
    "                s += j          \n",
    "        print(s)\n",
    "\n",
    "if __name__ == '__main__':\n",
    "    string, k = input(), int(input())\n",
    "    merge_the_tools(string, k)"
   ]
  },
  {
   "cell_type": "markdown",
   "metadata": {
    "id": "qTM7hyg-x1y0"
   },
   "source": [
    "### Sets (total 13)"
   ]
  },
  {
   "cell_type": "code",
   "execution_count": null,
   "metadata": {
    "id": "dDLhZHaI17ea"
   },
   "outputs": [],
   "source": [
    "# 1 Introduction to set\n",
    "\n",
    "# learn it from discussion part\n",
    "def average(array):\n",
    "    # your code goes here\n",
    "    return sum(set(array))/len(set(array))\n",
    "\n",
    "if __name__ == '__main__':\n",
    "    n = int(input())\n",
    "    arr = list(map(int, input().split()))\n",
    "    result = average(arr)\n",
    "    print(result)"
   ]
  },
  {
   "cell_type": "code",
   "execution_count": null,
   "metadata": {
    "id": "693i5fsu17UY"
   },
   "outputs": [],
   "source": [
    "# 2 No idea!\n",
    "\n",
    "a=input().split(' ')\n",
    "l=input().split(' ')\n",
    "firstset=set([int(i) for i in input().split(' ')])\n",
    "secondset=set([int(i) for i in input().split(' ')])\n",
    "for j in range(len(l)):\n",
    "    l[j]=int(l[j])\n",
    "\n",
    "score=0\n",
    "for i in l:\n",
    "    if i in firstset:\n",
    "        score+=1\n",
    "    if i in secondset:\n",
    "        score-=1\n",
    "print(score)"
   ]
  },
  {
   "cell_type": "code",
   "execution_count": null,
   "metadata": {
    "id": "sHb0B0Yt17J8"
   },
   "outputs": [],
   "source": [
    "# 3 Symmetric Difference\n",
    "\n",
    "# Enter your code here. Read input from STDIN. Print output to STDOUT\n",
    "a,b=(int(input()),input().split())\n",
    "c,d=(int(input()),input().split())\n",
    "x=set(b)\n",
    "y=set(d)\n",
    "answer = x^y\n",
    "answer = list(answer)\n",
    "for i in range(len(answer)):\n",
    "    answer[i]=int(answer[i])\n",
    "answer = sorted(answer)\n",
    "for j in range(len(answer)):\n",
    "    print(answer[j])\n"
   ]
  },
  {
   "cell_type": "code",
   "execution_count": null,
   "metadata": {
    "id": "dsvMcwST17AQ"
   },
   "outputs": [],
   "source": [
    "# 4 Set.add()\n",
    "\n",
    "# Enter your code here. Read input from STDIN. Print output to STDOUT\n",
    "num = int(input())\n",
    "dist = set()\n",
    "for i in range(int(num)):\n",
    "    dist.add(input())\n",
    "    \n",
    "print(len(dist))"
   ]
  },
  {
   "cell_type": "code",
   "execution_count": null,
   "metadata": {
    "id": "jJL2bKq4161o"
   },
   "outputs": [],
   "source": [
    "# 5 Set .discard(), .remove() & .pop()\n",
    "\n",
    "n = int(input())\n",
    "s = set(map(int, input().split()))\n",
    "l = int(input())\n",
    "\n",
    "for i in range(l) :\n",
    "    cmd=input().split()\n",
    "    if cmd[0]==\"pop\" :\n",
    "        s.pop()\n",
    "    elif cmd[0]==\"remove\" :\n",
    "        s.remove(int(cmd[1]))\n",
    "    elif cmd[0]==\"discard\" :\n",
    "        s.discard(int(cmd[1]))\n",
    "\n",
    "print (sum(s))"
   ]
  },
  {
   "cell_type": "code",
   "execution_count": null,
   "metadata": {
    "id": "ERyl-4No16rh"
   },
   "outputs": [],
   "source": [
    "# 6 Set .union() Operation\n",
    "\n",
    "n = input()\n",
    "set1 = set(map(int, input().split()))\n",
    "b = input()\n",
    "set2 = set(map(int, input().split()))\n",
    "\n",
    "set3 = set1|set2\n",
    "print(len(set3))"
   ]
  },
  {
   "cell_type": "code",
   "execution_count": null,
   "metadata": {
    "id": "U8EyvpJ_16hp"
   },
   "outputs": [],
   "source": [
    "# 7 Set .intersection() Operation\n",
    "\n",
    "n = input()\n",
    "set1 = set(map(int, input().split()))\n",
    "b = input()\n",
    "set2 = set(map(int, input().split()))\n",
    "\n",
    "set3 = set1 & set2\n",
    "print(len(set3))\n"
   ]
  },
  {
   "cell_type": "code",
   "execution_count": null,
   "metadata": {
    "id": "hBHLUfbP16X9"
   },
   "outputs": [],
   "source": [
    "# 8 Set .difference() Operation\n",
    "\n",
    "n = input()\n",
    "set1 = set(map(int, input().split()))\n",
    "b = input()\n",
    "set2 = set(map(int, input().split()))\n",
    "\n",
    "set3 = set1 - set2\n",
    "print(len(set3))"
   ]
  },
  {
   "cell_type": "code",
   "execution_count": null,
   "metadata": {
    "id": "GkYev4oR16OJ"
   },
   "outputs": [],
   "source": [
    "# 9 Set .symmetric_difference() Operation\n",
    "\n",
    "n = input()\n",
    "set1 = set(map(int, input().split()))\n",
    "b = input()\n",
    "set2 = set(map(int, input().split()))\n",
    "\n",
    "set3 = set1^set2\n",
    "print(len(set3))\n"
   ]
  },
  {
   "cell_type": "code",
   "execution_count": null,
   "metadata": {
    "id": "GXkDQAhU16Dy"
   },
   "outputs": [],
   "source": [
    "# 10 Set Mutations\n",
    "\n",
    "n = int(input())\n",
    "s1 = set(map(int, input().split()))\n",
    "N = int(input())\n",
    "\n",
    "for _ in range(N):\n",
    "    cmd = input().split()\n",
    "    s2 = set(map(int, input().split()))\n",
    "    if(cmd[0] == \"intersection_update\"):\n",
    "        s1.intersection_update(s2)\n",
    "    elif(cmd[0] == \"update\"):\n",
    "        s1.update(s2)\n",
    "    elif(cmd[0] == \"symmetric_difference_update\"):\n",
    "        s1.symmetric_difference_update(s2)\n",
    "    elif(cmd[0] == \"difference_update\"):\n",
    "        s1.difference_update(s2)\n",
    "\n",
    "print(sum(s1))"
   ]
  },
  {
   "cell_type": "code",
   "execution_count": null,
   "metadata": {
    "id": "6k5R57zI155Z"
   },
   "outputs": [],
   "source": [
    "# 11 The Captain's Room\n",
    "\n",
    "k,arr = int(input()),list(map(int, input().split()))\n",
    "\n",
    "sum1=sum(arr)\n",
    "set1=set(arr)\n",
    "sum2=sum(set1)*k\n",
    "\n",
    "nroom=sum1-sum2\n",
    "room=nroom/(len(arr)-len(set1)*k)\n",
    "print(int(room))"
   ]
  },
  {
   "cell_type": "code",
   "execution_count": null,
   "metadata": {
    "id": "KgbxH4gj15uo"
   },
   "outputs": [],
   "source": [
    "# 12 Check Subset\n",
    "\n",
    "n = int(input())\n",
    "for i in range(n):\n",
    "    x=input()\n",
    "    a=set(input().split())\n",
    "    y=input() \n",
    "    b=set(input().split())\n",
    "    print(a.issubset(b))"
   ]
  },
  {
   "cell_type": "code",
   "execution_count": null,
   "metadata": {
    "id": "daKWn7gt1UPj"
   },
   "outputs": [],
   "source": [
    "# 13 Check Strict Superset\n",
    "\n",
    "A = list(map(int, input().split()))\n",
    "n = int(input())\n",
    "L = [list(map(int, input().split())) for _ in range(n)]\n",
    "\n",
    "output = False\n",
    "\n",
    "for i in L:\n",
    "\n",
    "    if set(i).issubset(set(A)) and len(i) < len(A):\n",
    "        output = True\n",
    "    else:\n",
    "        output = False\n",
    "        break\n",
    "\n",
    "print(output)"
   ]
  },
  {
   "cell_type": "markdown",
   "metadata": {
    "id": "3NGi47_P19A8"
   },
   "source": [
    "### Collections (total 8)"
   ]
  },
  {
   "cell_type": "code",
   "execution_count": null,
   "metadata": {
    "id": "-bZHPR4E4n1h"
   },
   "outputs": [],
   "source": [
    "# 1 collections.Counter()\n",
    "\n",
    "# Enter your code here. Read input from STDIN. Print output to STDOUT\n",
    "import collections\n",
    "\n",
    "n = int(input())\n",
    "shoes = collections.Counter(map(int,input().split()))\n",
    "nc = int(input())\n",
    "\n",
    "total = 0\n",
    "\n",
    "for i in range(nc):\n",
    "    size, price = map(int,input().split())\n",
    "    if shoes[size]: \n",
    "        total += price\n",
    "        shoes[size] -= 1\n",
    "\n",
    "print(total)"
   ]
  },
  {
   "cell_type": "code",
   "execution_count": null,
   "metadata": {
    "id": "L4l5QM3C4pMN"
   },
   "outputs": [],
   "source": [
    "# 2 DefaultDict Tutorial\n",
    "\n",
    "# Enter your code here. Read input from STDIN. Print output to STDOUT\n",
    "from collections import defaultdict\n",
    "d = defaultdict(list)\n",
    "\n",
    "n, m = map(int,input().split())\n",
    "\n",
    "for i in range(1,n+1):\n",
    "    d[input()].append(str(i))\n",
    "    \n",
    "for i in range(m):\n",
    "    print (' '.join(d[input()]) or -1)"
   ]
  },
  {
   "cell_type": "code",
   "execution_count": null,
   "metadata": {
    "id": "tuTUUolw4pD0"
   },
   "outputs": [],
   "source": [
    "# 3 Collections.namedtuple()\n",
    "\n",
    "# Enter your code here. Read input from STDIN. Print output to STDOUT\n",
    "from collections import namedtuple\n",
    "\n",
    "n = int(input())\n",
    "a = input()\n",
    "\n",
    "total = 0\n",
    "\n",
    "Student = namedtuple('Student', a)\n",
    "for i in range(n):\n",
    "    student = Student(*input().split())\n",
    "    total += int(student.MARKS)\n",
    "\n",
    "aver = total/n\n",
    "print(format(aver,'.2f'))"
   ]
  },
  {
   "cell_type": "code",
   "execution_count": null,
   "metadata": {
    "id": "TMqd5TgE4o7R"
   },
   "outputs": [],
   "source": [
    "# 4 Collections.OrderedDict()\n",
    "\n",
    "from collections import OrderedDict\n",
    "\n",
    "d = OrderedDict()\n",
    "\n",
    "for i in range(int(input())):\n",
    "    item, space, quantity = input().rpartition(' ')\n",
    "    d[item] = d.get(item, 0) + int(quantity)\n",
    "    \n",
    "for item, quantity in d.items():\n",
    "    print(item, quantity)"
   ]
  },
  {
   "cell_type": "code",
   "execution_count": null,
   "metadata": {
    "id": "0AR4v4Sm4oya"
   },
   "outputs": [],
   "source": [
    "# 5 Word Order\n",
    "\n",
    "# Enter your code here. Read input from STDIN. Print output to STDOUT\n",
    "from collections import Counter, OrderedDict\n",
    "\n",
    "words = OrderedDict()\n",
    "\n",
    "for i in range(int(input())):\n",
    "    word = input()\n",
    "    words.setdefault(word, 0)\n",
    "    words[word] += 1\n",
    "   \n",
    "print(len(words))\n",
    "print(*words.values()) # for format of the output"
   ]
  },
  {
   "cell_type": "code",
   "execution_count": null,
   "metadata": {
    "id": "U4lziu6K4ooH"
   },
   "outputs": [],
   "source": [
    "# 6 Collections.deque()\n",
    "\n",
    "from collections import deque\n",
    "\n",
    "d = deque()\n",
    "\n",
    "n=int(input())\n",
    "\n",
    "for i in range(n):\n",
    "    x=input().split()\n",
    "    if x[0] == 'pop': d.pop()\n",
    "    if x[0] == 'popleft': d.popleft()\n",
    "    if x[0] == 'append': d.append(int(x[1]))\n",
    "    if x[0] == 'appendleft': d.appendleft(int(x[1]))\n",
    "\n",
    "    \n",
    "print(*d)\n",
    "    "
   ]
  },
  {
   "cell_type": "code",
   "execution_count": null,
   "metadata": {
    "id": "xfA7lrsM4ofE"
   },
   "outputs": [],
   "source": [
    "# 7 Company Logo\n",
    "\n",
    "\n",
    "import math\n",
    "import os\n",
    "import random\n",
    "import re\n",
    "import sys\n",
    "from collections import Counter\n",
    "\n",
    "\n",
    "if __name__ == '__main__':\n",
    "    s = input()\n",
    "    d = Counter(sorted(s))\n",
    "    for i in d.most_common(3):\n",
    "        print(*i)"
   ]
  },
  {
   "cell_type": "code",
   "execution_count": null,
   "metadata": {
    "id": "RC7YkiYW4oSS"
   },
   "outputs": [],
   "source": [
    "# 8 Piling Up!\n",
    "\n",
    "# learned it from discussion part\n",
    "for t in range(int(input())):\n",
    "    l = int(input())\n",
    "    lst = list(map(int,input().split()))\n",
    "    i = 0\n",
    "    while i < l - 1 and lst[i] >= lst[i+1]:\n",
    "        i += 1\n",
    "    while i < l - 1 and lst[i] <= lst[i+1]:\n",
    "        i += 1\n",
    "    \n",
    "    if i == l-1:\n",
    "        print(\"Yes\")\n",
    "    else:\n",
    "        print(\"No\")"
   ]
  },
  {
   "cell_type": "markdown",
   "metadata": {
    "id": "Ebrn0-3g6-Xm"
   },
   "source": [
    "### Data and Time (total 2)"
   ]
  },
  {
   "cell_type": "code",
   "execution_count": null,
   "metadata": {
    "id": "SmmwaMQP7KQP"
   },
   "outputs": [],
   "source": [
    "# 1 Calendar Module\n",
    "\n",
    "import calendar\n",
    "m, d, y = map(int, input().split())\n",
    "ans = calendar.day_name[calendar.weekday(y, m, d)].upper()\n",
    "print(ans)"
   ]
  },
  {
   "cell_type": "code",
   "execution_count": null,
   "metadata": {
    "id": "YJ2SnIHM7KDq"
   },
   "outputs": [],
   "source": [
    "# 2 Time Data\n",
    "\n",
    "# learned it from discussion part\n",
    "from datetime import datetime as dt\n",
    "fmt = '%a %d %b %Y %H:%M:%S %z'\n",
    "for i in range(int(input())):\n",
    "    print(int(abs((dt.strptime(input(), fmt) - \n",
    "                   dt.strptime(input(), fmt)).total_seconds())))\n"
   ]
  },
  {
   "cell_type": "markdown",
   "metadata": {
    "id": "OP671EUw7De6"
   },
   "source": [
    "### Exception (only 1)"
   ]
  },
  {
   "cell_type": "code",
   "execution_count": null,
   "metadata": {
    "id": "2CoqjkZP7Li6"
   },
   "outputs": [],
   "source": [
    "for i in range(int(input())):\n",
    "    try:\n",
    "        a,b=map(int,input().split())\n",
    "        print(a//b)\n",
    "    except Exception as e:\n",
    "        print(\"Error Code:\",e)"
   ]
  },
  {
   "cell_type": "markdown",
   "metadata": {
    "id": "0fV4zSWR7O2F"
   },
   "source": [
    "### Bulit-ins (total 3)"
   ]
  },
  {
   "cell_type": "code",
   "execution_count": null,
   "metadata": {
    "id": "HI4UPeQu755l"
   },
   "outputs": [],
   "source": [
    "# 1 zipped\n",
    "\n",
    "co,line = input().split()\n",
    "line=int(line)\n",
    "co=int(co)\n",
    "arr=[]\n",
    "for i in range(line):\n",
    "    arr.append(list(map(float,input().split())))\n",
    "\n",
    "ans=[]\n",
    "\n",
    "for k in range(co):\n",
    "    s=0\n",
    "    for j in range(line):\n",
    "        subarr=arr[j]\n",
    "        s = s + subarr[k]\n",
    "        \n",
    "    aver = s/line\n",
    "    ans.append(aver)\n",
    "\n",
    "\n",
    "for _ in range(len(ans)):\n",
    "    print(ans[_])"
   ]
  },
  {
   "cell_type": "code",
   "execution_count": null,
   "metadata": {
    "id": "VyVjQqAR75vu"
   },
   "outputs": [],
   "source": [
    "# 2 Athlete Sort\n",
    "\n",
    "# I learned if from discussion part\n",
    "n_m = list(map(int, input().split()))\n",
    "\n",
    "table = list()\n",
    "\n",
    "for i in range(n_m[0]):\n",
    "    table.append(list(map(int, input().split())))\n",
    "    \n",
    "k = int(input())\n",
    "sorted_table = sorted(table, key=lambda record: record[k])\n",
    "for item in sorted_table:\n",
    "    print(*item)"
   ]
  },
  {
   "cell_type": "code",
   "execution_count": null,
   "metadata": {
    "id": "3XUrWhch75ko"
   },
   "outputs": [],
   "source": [
    "# 3 ginortS\n",
    "\n",
    "import re\n",
    "\n",
    "patterns = [ r'[a-z]', r'[A-Z]' , r'[13579]'  ,r'[02468]']\n",
    "s = input()\n",
    "ss = [  r for pattern in patterns for r in sorted(re.findall( pattern, s ))  ]\n",
    "print(\"\".join(ss))"
   ]
  },
  {
   "cell_type": "markdown",
   "metadata": {
    "id": "OtJsy4hN76jN"
   },
   "source": [
    "### Python Functionals (only 1)"
   ]
  },
  {
   "cell_type": "code",
   "execution_count": null,
   "metadata": {
    "id": "H5loMnCX8Ayd"
   },
   "outputs": [],
   "source": [
    "cube = lambda x:pow(x,3) # complete the lambda function \n",
    "\n",
    "def fibonacci(n):\n",
    "    lis = [0,1]\n",
    "    for i in range(2,n):\n",
    "         lis.append(lis[i-2] + lis[i-1])\n",
    "    return(lis[0:n]) \n",
    "\n",
    "if __name__ == '__main__':\n",
    "    n = int(input())\n",
    "    print(list(map(cube, fibonacci(n))))"
   ]
  },
  {
   "cell_type": "markdown",
   "metadata": {
    "id": "l_mZlzc-8Bme"
   },
   "source": [
    "### Regex and Parsing challenges (total 17)"
   ]
  },
  {
   "cell_type": "code",
   "execution_count": null,
   "metadata": {
    "id": "YYD50ouf8JeY"
   },
   "outputs": [],
   "source": [
    "# 1 Detect Floating Point Number\n",
    "\n",
    "import re\n",
    "m = int(input())\n",
    "for i in range(0,m):\n",
    "    temp =input()\n",
    "    print(bool(re.match(r\"^[-+]?[0-9]*\\.[0-9]+$\",temp)))\n"
   ]
  },
  {
   "cell_type": "code",
   "execution_count": null,
   "metadata": {
    "id": "_iaAfmff8Jbp"
   },
   "outputs": [],
   "source": [
    "# 2 Re.split()\n",
    "\n",
    "regex_pattern = r\"[.,]\"\t# Do not delete 'r'.\n",
    "\n",
    "import re\n",
    "print(\"\\n\".join(re.split(regex_pattern, input())))"
   ]
  },
  {
   "cell_type": "code",
   "execution_count": null,
   "metadata": {
    "id": "P57bdSEu8JW-"
   },
   "outputs": [],
   "source": [
    "# 3 Group(), Groups() & Groupdict()\n",
    "\n",
    "import re\n",
    "m = re.search(r\"([a-z0-9])\\1+\", input())\n",
    "print(m.group(1) if m else -1)"
   ]
  },
  {
   "cell_type": "code",
   "execution_count": null,
   "metadata": {
    "id": "TvKiGYFL8JU2"
   },
   "outputs": [],
   "source": [
    "# 4 Re.findall() & Re.finditer()\n",
    "\n",
    "# learn it form disscussion part\n",
    "import re\n",
    "v = \"aeiou\"\n",
    "c = \"qwrtypsdfghjklzxcvbnm\"\n",
    "print('\\n'.join(re.findall(r'(?<=[%s])([%s]{2,})[%s]'%(c,v,c),input(),re.I) or ['-1']))\n"
   ]
  },
  {
   "cell_type": "code",
   "execution_count": null,
   "metadata": {
    "id": "WKJcVzjY8JSy"
   },
   "outputs": [],
   "source": [
    "# 5 Re.start() & Re.end()\n",
    "\n",
    "# Enter your code here. Read input from STDIN. Print output to STDOUT\n",
    "import re\n",
    "s = input()\n",
    "k = input()\n",
    "matches = list(re.finditer(r'(?={})'.format(k), s)) # It is more convient for us to use re.finditer to solve this problem\n",
    "if matches:\n",
    "    print('\\n'.join(str((match.start(),match.start() + len(k) - 1)) for match in matches))\n",
    "else:\n",
    "    print('(-1, -1)')"
   ]
  },
  {
   "cell_type": "code",
   "execution_count": null,
   "metadata": {
    "id": "NIhlg1K18JQN"
   },
   "outputs": [],
   "source": [
    "# 6 Regex Substitution\n",
    "\n",
    "# learn it from discussion part\n",
    "for _ in range(int(input())):\n",
    "    line = input()\n",
    "    \n",
    "    while ' && ' in line or ' || ' in line:\n",
    "        line = line.replace(\" && \", \" and \").replace(\" || \", \" or \")\n",
    "    \n",
    "    print(line)"
   ]
  },
  {
   "cell_type": "code",
   "execution_count": null,
   "metadata": {
    "id": "ujIO6mbz8JOR"
   },
   "outputs": [],
   "source": [
    "# 7 Validating Roman Numerals\n",
    "\n",
    "regex_pattern = r\"M{,3}(CM|CD|D?C{,3})(XC|XL|L?X{,3})(IX|IV|V?I{,3})$\"\t# Do not delete 'r'.\n",
    "\n",
    "import re\n",
    "print(str(bool(re.match(regex_pattern, input()))))"
   ]
  },
  {
   "cell_type": "code",
   "execution_count": null,
   "metadata": {
    "id": "COn2fT008JMM"
   },
   "outputs": [],
   "source": [
    "# 8 Validating phone numbers\n",
    "\n",
    "n = int(input())\n",
    "for i in range(n):\n",
    "    line = input()\n",
    "    if len(line)==10 :\n",
    "        if  line.isnumeric():\n",
    "            if (int(line[0])==7 or int(line[0])==8 or int(line[0])==9):\n",
    "                print('YES')\n",
    "            else:\n",
    "                print('NO')\n",
    "        else: \n",
    "            print('NO') \n",
    "    else: \n",
    "        print('NO') \n"
   ]
  },
  {
   "cell_type": "code",
   "execution_count": null,
   "metadata": {
    "id": "JeFkmStZ8JJ4"
   },
   "outputs": [],
   "source": [
    "# 9 Validating and Parsing Email Addresses\n",
    "\n",
    "import re\n",
    "\n",
    "pattern = re.compile(r'<[A-Za-z](\\w|-|\\.|_)+@[A-Za-z]+\\.[A-Za-z]{1,3}>')\n",
    "n = int(input())\n",
    "for i in range(n):\n",
    "    x,y = input().split(' ')\n",
    "    m = re.match(pattern,y)\n",
    "    if m:\n",
    "        print(x,y)"
   ]
  },
  {
   "cell_type": "code",
   "execution_count": null,
   "metadata": {
    "id": "qVh1KmCP8JHr"
   },
   "outputs": [],
   "source": [
    "# 10 Hex Color Code\n",
    "\n",
    "import re\n",
    "for i in range(int(input())):\n",
    "    matches = re.findall(r':?.(#[0-9a-fA-F]{6}|#[0-9a-fA-F]{3})', input())\n",
    "    if matches:\n",
    "        print(*matches, sep='\\n') #* for the output format"
   ]
  },
  {
   "cell_type": "code",
   "execution_count": null,
   "metadata": {
    "id": "NdJitbHd8JFb"
   },
   "outputs": [],
   "source": [
    "# 11 HTML Parser - Part 1\n",
    "\n",
    "# this question is hard, I learned it from discussion part.\n",
    "from html.parser import HTMLParser\n",
    "class MyHTMLParser(HTMLParser):\n",
    "    def handle_starttag(self, tag, attrs):\n",
    "        print(\"Start :\", tag)\n",
    "        for item in attrs:\n",
    "            print('->',item[0],'>', item[1])\n",
    "    def handle_endtag(self, tag):\n",
    "        print(\"End   :\", tag)\n",
    "    def handle_startendtag(self, tag, attrs):\n",
    "        print(\"Empty :\", tag)\n",
    "        for ele in attrs:\n",
    "            print('->',ele[0],'>', ele[1])\n",
    "n = int(input())\n",
    "answer = MyHTMLParser()\n",
    "for i in range(n):\n",
    "    line = input()\n",
    "    answer.feed(line)"
   ]
  },
  {
   "cell_type": "code",
   "execution_count": null,
   "metadata": {
    "id": "yCZmnHx-8JD6"
   },
   "outputs": [],
   "source": [
    "# 12 HTML Parser - Part 2\n",
    "\n",
    "from html.parser import HTMLParser\n",
    "# learned it from disscussion part\n",
    "\n",
    "class MyHTMLParser(HTMLParser):\n",
    "  def handle_comment(self, data):\n",
    "    if '\\n' in data:\n",
    "        print('>>> Multi-line Comment')\n",
    "        print(data)\n",
    "    else:\n",
    "        print('>>> Single-line Comment')\n",
    "        print(data)\n",
    "\n",
    "  def handle_data(self, data):\n",
    "    if '\\n' not in data:\n",
    "        print(\">>> Data\")\n",
    "        print(data)\n",
    "  \n",
    "  \n",
    "html = ''       \n",
    "for i in range(int(input())):\n",
    "    html += input().rstrip()\n",
    "    html += '\\n'\n",
    "\n",
    "parser = MyHTMLParser()\n",
    "parser.feed(html)\n",
    "parser.close()\n"
   ]
  },
  {
   "cell_type": "code",
   "execution_count": null,
   "metadata": {
    "id": "z9ZPvBe_8JAg"
   },
   "outputs": [],
   "source": [
    "# 13 Detect HTML Tags, Attributes and Attribute Values\n",
    "\n",
    "from html.parser import HTMLParser\n",
    "\n",
    "class MyHTMLParser(HTMLParser):\n",
    "    def handle_starttag(self, tag, attrs):\n",
    "        print(tag)\n",
    "        [print('-> {} > {}'.format(*attr)) for attr in attrs]\n",
    "        \n",
    "html = '\\n'.join([input() for _ in range(int(input()))])\n",
    "\n",
    "parser = MyHTMLParser()\n",
    "parser.feed(html)\n",
    "parser.close()"
   ]
  },
  {
   "cell_type": "code",
   "execution_count": null,
   "metadata": {
    "id": "mtQEOOGe8I-D"
   },
   "outputs": [],
   "source": [
    "# 14 Validating UID\n",
    "\n",
    "import re\n",
    "\n",
    "a = r\"(?!.*(.).*\\1)\"\n",
    "b = r\"(?=(?:.*[A-Z]){2,})\"\n",
    "c = r\"(?=(?:.*\\d){3,})\"\n",
    "d = r\"[a-zA-Z0-9]{10}\"\n",
    "filter = a,b,c,d\n",
    "for uid in [input() for i in range(int(input()))]:\n",
    "    if all([re.match(f, uid) for f in filter]):\n",
    "        print(\"Valid\")\n",
    "    else:\n",
    "        print(\"Invalid\")"
   ]
  },
  {
   "cell_type": "code",
   "execution_count": null,
   "metadata": {
    "id": "IohfBJ8T8I76"
   },
   "outputs": [],
   "source": [
    "# 15 Validating Credit Card Numbers\n",
    "\n",
    "import re\n",
    "\n",
    "for i in range(int(input())):\n",
    "    s = input()\n",
    "    if re.match(r\"^[456]([\\d]{15}|[\\d]{3}(-[\\d]{4}){3})$\", s) and not re.search(r\"([\\d])\\1\\1\\1\", s.replace(\"-\", \"\")):\n",
    "        \n",
    "        print(\"Valid\")\n",
    "    else:\n",
    "        print(\"Invalid\")"
   ]
  },
  {
   "cell_type": "code",
   "execution_count": null,
   "metadata": {
    "id": "xxr2QT9f8I5g"
   },
   "outputs": [],
   "source": [
    "# 16 Validating Postal Codes\n",
    "\n",
    "regex_integer_in_range = r\"^[1-9][\\d]{5}$\"\t# Do not delete 'r'.\n",
    "regex_alternating_repetitive_digit_pair = r\"(\\d)(?=\\d\\1)\"\t# Do not delete 'r'.te 'r'.\n",
    "\n",
    "\n",
    "import re\n",
    "P = input()\n",
    "\n",
    "print (bool(re.match(regex_integer_in_range, P)) \n",
    "and len(re.findall(regex_alternating_repetitive_digit_pair, P)) < 2)"
   ]
  },
  {
   "cell_type": "code",
   "execution_count": null,
   "metadata": {
    "id": "kJO4rKFD8I4K"
   },
   "outputs": [],
   "source": [
    "# 17 Matrix Script\n",
    "\n",
    "import re\n",
    "\n",
    "n, m = map(int, input().split())\n",
    "matrix, s = [], ''\n",
    "for _ in range(n):\n",
    "    matrix_item = input()\n",
    "    matrix.append(matrix_item)\n",
    "\n",
    "for i in range(m):\n",
    "    for j in range(n):\n",
    "        s += matrix[j][i]\n",
    "\n",
    "s=re.sub(r'(\\w)\\W{1,}(\\w)', r'\\1 \\2', s)\n",
    "print(s)"
   ]
  },
  {
   "cell_type": "markdown",
   "metadata": {
    "id": "h_3X5vUo-Uv2"
   },
   "source": [
    "### XML (total 2)"
   ]
  },
  {
   "cell_type": "code",
   "execution_count": null,
   "metadata": {
    "id": "wfmpIFXa8I0h"
   },
   "outputs": [],
   "source": [
    "# 1 Find the Score\n",
    "\n",
    "import sys\n",
    "import xml.etree.ElementTree as etree\n",
    "\n",
    "# learn it from discussion\n",
    "def get_attr_number(node):\n",
    "    return sum([len(elem.items()) for elem in tree.iter()])\n",
    "\n",
    "if __name__ == '__main__':\n",
    "    sys.stdin.readline()\n",
    "    xml = sys.stdin.read()\n",
    "    tree = etree.ElementTree(etree.fromstring(xml))\n",
    "    root = tree.getroot()\n",
    "    print(get_attr_number(root))"
   ]
  },
  {
   "cell_type": "code",
   "execution_count": null,
   "metadata": {
    "id": "Sl0kd_me8Iyc"
   },
   "outputs": [],
   "source": [
    "# 2 Find the Maximum Depth\n",
    "\n",
    "import xml.etree.ElementTree as etree\n",
    "\n",
    "maxdepth = 0\n",
    "def depth(elem, level):\n",
    "    global maxdepth\n",
    "    if (level == maxdepth):\n",
    "        maxdepth = maxdepth + 1\n",
    "        \n",
    "    for item in elem:\n",
    "        depth(item, level + 1)\n",
    "    # your code goes here\n",
    "\n",
    "if __name__ == '__main__':\n",
    "    n = int(input())\n",
    "    xml = \"\"\n",
    "    for i in range(n):\n",
    "        xml =  xml + input() + \"\\n\"\n",
    "    tree = etree.ElementTree(etree.fromstring(xml))\n",
    "    depth(tree.getroot(), -1)\n",
    "    print(maxdepth)"
   ]
  },
  {
   "cell_type": "markdown",
   "metadata": {
    "id": "lsaE9hGUApKS"
   },
   "source": [
    "### Closures and Decorations (total 2)"
   ]
  },
  {
   "cell_type": "code",
   "execution_count": null,
   "metadata": {
    "id": "ac8du3LD8IxC"
   },
   "outputs": [],
   "source": [
    "# 1 Standardize Mobile Number Using Decorators\n",
    "\n",
    "def wrapper(f):\n",
    "    def fun(l):\n",
    "        fun = f([\"+91 \"+c[-10:-5]+\" \"+c[-5:] for c in l])\n",
    "    return fun\n",
    "\n",
    "@wrapper\n",
    "def sort_phone(l):\n",
    "    print(*sorted(l), sep='\\n')\n",
    "\n",
    "if __name__ == '__main__':\n",
    "    l = [input() for _ in range(int(input()))]\n",
    "    sort_phone(l) \n"
   ]
  },
  {
   "cell_type": "code",
   "execution_count": null,
   "metadata": {
    "id": "vPIHzywO8Itv"
   },
   "outputs": [],
   "source": [
    "# 2 Decorators 2 - Name Directory\n",
    "\n",
    "def person_lister(f):\n",
    "    def inner(people):\n",
    "        for i in sorted(people, key=lambda x: int(x[2])):\n",
    "            yield f(i)\n",
    "    return inner\n",
    "\n",
    "@person_lister\n",
    "def name_format(person):\n",
    "    return (\"Mr. \" if person[3] == \"M\" else \"Ms. \") + person[0] + \" \" + person[1]\n",
    "\n",
    "if __name__ == '__main__':\n",
    "    people = [input().split() for i in range(int(input()))]\n",
    "    print(*name_format(people), sep='\\n')\n"
   ]
  },
  {
   "cell_type": "markdown",
   "metadata": {
    "id": "g_Pw5Z-fAxZy"
   },
   "source": [
    "### Numpy (total 15)"
   ]
  },
  {
   "cell_type": "code",
   "execution_count": null,
   "metadata": {
    "id": "9aW-NXaA8IsQ"
   },
   "outputs": [],
   "source": [
    "# 1 Arrays\n",
    "\n",
    "import numpy\n",
    "\n",
    "def arrays(arr):\n",
    "    arr=numpy.array(arr,float)\n",
    "    return arr[::-1]\n",
    "\n",
    "arr = input().strip().split(' ')\n",
    "result = arrays(arr)\n",
    "print(result)"
   ]
  },
  {
   "cell_type": "code",
   "execution_count": null,
   "metadata": {
    "id": "A5VyjhZl8Iqk"
   },
   "outputs": [],
   "source": [
    "# 2 Shape and Reshape\n",
    "\n",
    "import numpy as np\n",
    "a=np.array(list(map(int,input().split())))\n",
    "a.shape=(3,3)\n",
    "print(a)\n"
   ]
  },
  {
   "cell_type": "code",
   "execution_count": null,
   "metadata": {
    "id": "2S3R7npe8IoK"
   },
   "outputs": [],
   "source": [
    "# 3 Transpose and Flatten\n",
    "\n",
    "import numpy as np\n",
    "\n",
    "n , m = input().split()\n",
    "a = []\n",
    "for i in range(int(n)):\n",
    "    my_array = input().split()\n",
    "    a.append(my_array)\n",
    "arr = np.array(a,int)\n",
    "print(np.transpose(arr))\n",
    "print(arr.flatten())"
   ]
  },
  {
   "cell_type": "code",
   "execution_count": null,
   "metadata": {
    "id": "dF2pCV2K8IkG"
   },
   "outputs": [],
   "source": [
    "# 4 Concatenate\n",
    "\n",
    "import numpy as np\n",
    "N, M, P = map(int,input().split())\n",
    "a=[]\n",
    "for i in range(N+M):\n",
    "    list1 = list(map(int,input().split()))\n",
    "    a.append(list1)\n",
    "\n",
    "a = np.array(a)\n",
    "print(a)"
   ]
  },
  {
   "cell_type": "code",
   "execution_count": null,
   "metadata": {
    "id": "8o-fP0d58Iho"
   },
   "outputs": [],
   "source": [
    "# 5 Zeros and Ones\n",
    "\n",
    "import numpy\n",
    "\n",
    "d = list(map(int,(input().split())))\n",
    "\n",
    "arr1 = numpy.zeros((d), dtype = numpy.int)\n",
    "print(arr1)\n",
    "    \n",
    "arr2 = numpy.ones((d), dtype = numpy.int)\n",
    "print(arr2)"
   ]
  },
  {
   "cell_type": "code",
   "execution_count": null,
   "metadata": {
    "id": "MkpGfOJg8Ift"
   },
   "outputs": [],
   "source": [
    "# 6 Eyes and Identity\n",
    "\n",
    "# learn it from wi34rd in discussion\n",
    "# what I wrote make some mistakes in sapce.\n",
    "import numpy\n",
    "\n",
    "numpy.set_printoptions(sign=' ')\n",
    "print(numpy.eye(*map(int, input().split())))"
   ]
  },
  {
   "cell_type": "code",
   "execution_count": null,
   "metadata": {
    "id": "33nHKmH88IcU"
   },
   "outputs": [],
   "source": [
    "# 7 Array Mathematics\n",
    "\n",
    "import numpy as np\n",
    "\n",
    "n, m = map(int, input().split())\n",
    "a, b = (np.array([input().split() for _ in range(n)], dtype=int) for _ in range(2))\n",
    "\n",
    "print(a+b)\n",
    "print(a-b)\n",
    "print(a*b)\n",
    "print(a//b)\n",
    "print(a%b)\n",
    "print(a**b)"
   ]
  },
  {
   "cell_type": "code",
   "execution_count": null,
   "metadata": {
    "id": "klTE-AhT8IZc"
   },
   "outputs": [],
   "source": [
    "# 8 Floor, Ceil and Rint\n",
    "\n",
    "import numpy\n",
    "numpy.set_printoptions(sign=' ')\n",
    "a = numpy.array(input().split(),float)\n",
    "\n",
    "print(numpy.floor(a))\n",
    "print(numpy.ceil(a))\n",
    "print(numpy.rint(a))"
   ]
  },
  {
   "cell_type": "code",
   "execution_count": null,
   "metadata": {
    "id": "8WzzBU2kEHV-"
   },
   "outputs": [],
   "source": [
    "# 9 Sum and Pord\n",
    "\n",
    "import numpy\n",
    "\n",
    "n,m = map(int, input().split())\n",
    "A = numpy.array([input().split() for _ in range(n)],int)\n",
    "print(numpy.prod(numpy.sum(A, axis=0), axis=0))\n"
   ]
  },
  {
   "cell_type": "code",
   "execution_count": null,
   "metadata": {
    "id": "tvLI8updEHMm"
   },
   "outputs": [],
   "source": [
    "# 10 Min and Max \n",
    "\n",
    "import numpy\n",
    "n,m = map(int, input().split())\n",
    "A = numpy.array([input().split() for _ in range(n)],int)\n",
    "minA = numpy.min(A, axis=1)\n",
    "maxv = numpy.max(minA)\n",
    "print(maxv)\n"
   ]
  },
  {
   "cell_type": "code",
   "execution_count": null,
   "metadata": {
    "id": "pBtHb6INEHCz"
   },
   "outputs": [],
   "source": [
    "# 11 Mean Var and Std\n",
    "\n",
    "import numpy\n",
    "array = []\n",
    "n, m = map(int, input().split())\n",
    "for i in range(n): \n",
    "    array.append(list(map(int, input().split())))\n",
    "array = numpy.array(array)\n",
    "print(numpy.mean(array, axis=1))\n",
    "print(numpy.var(array, axis=0))\n",
    "print(round(numpy.std(array), 11))\n"
   ]
  },
  {
   "cell_type": "code",
   "execution_count": null,
   "metadata": {
    "id": "9-hWczihEG46"
   },
   "outputs": [],
   "source": [
    "# 12 Dot and Cross \n",
    "\n",
    "import numpy as np\n",
    "n = int(input())\n",
    "a = np.array([input().split() for i in range(n)], int)\n",
    "b = np.array([input().split() for i in range(n)], int)\n",
    "print(np.dot(a, b))\n"
   ]
  },
  {
   "cell_type": "code",
   "execution_count": null,
   "metadata": {
    "id": "mVsDp3Q3EGu2"
   },
   "outputs": [],
   "source": [
    "# 13 inner and Outer \n",
    "\n",
    "import numpy as np\n",
    "a = np.array(input().split(), int)\n",
    "b = np.array(input().split(), int)\n",
    "print(np.inner(a, b))\n",
    "print(np.outer(a, b))"
   ]
  },
  {
   "cell_type": "code",
   "execution_count": null,
   "metadata": {
    "id": "OaIfDNzOEGjW"
   },
   "outputs": [],
   "source": [
    "# 14 Polynomials\n",
    "\n",
    "import numpy\n",
    "n = list(map(float,input().split()))\n",
    "m = input()\n",
    "print(format(numpy.polyval(n,int(m)),'.1f'))\n"
   ]
  },
  {
   "cell_type": "code",
   "execution_count": null,
   "metadata": {
    "id": "9CRMRzp_EGYF"
   },
   "outputs": [],
   "source": [
    "# 15 Linear Algebra\n",
    "\n",
    "import numpy\n",
    "n=int(input())\n",
    "a=numpy.array([input().split() for i in range(n)],float)\n",
    "numpy.set_printoptions(legacy='1.13') #set up the format of output\n",
    "print(numpy.linalg.det(a))\n"
   ]
  },
  {
   "cell_type": "markdown",
   "metadata": {
    "id": "pWk-4hxAFM6g"
   },
   "source": [
    "## Problem 2"
   ]
  },
  {
   "cell_type": "markdown",
   "metadata": {
    "id": "IMdtQ_JmFbxO"
   },
   "source": [
    "#### Birthday Cake Candles"
   ]
  },
  {
   "cell_type": "code",
   "execution_count": null,
   "metadata": {
    "id": "W_gFQ1SYFn-W"
   },
   "outputs": [],
   "source": [
    "#!/bin/python3\n",
    "\n",
    "import math\n",
    "import os\n",
    "import random\n",
    "import re\n",
    "import sys\n",
    "\n",
    "#\n",
    "# Complete the 'birthdayCakeCandles' function below.\n",
    "#\n",
    "# The function is expected to return an INTEGER.\n",
    "# The function accepts INTEGER_ARRAY candles as parameter.\n",
    "#\n",
    "\n",
    "def birthdayCakeCandles(candles):\n",
    "    return candles.count(max(candles))\n",
    "\n",
    "if __name__ == '__main__':\n",
    "    fptr = open(os.environ['OUTPUT_PATH'], 'w')\n",
    "\n",
    "    candles_count = int(input().strip())\n",
    "\n",
    "    candles = list(map(int, input().rstrip().split()))\n",
    "\n",
    "    result = birthdayCakeCandles(candles)\n",
    "\n",
    "    fptr.write(str(result) + '\\n')\n",
    "\n",
    "    fptr.close()"
   ]
  },
  {
   "cell_type": "markdown",
   "metadata": {
    "id": "mSpRjl_fFuAu"
   },
   "source": [
    "#### Number Line Jumps"
   ]
  },
  {
   "cell_type": "code",
   "execution_count": null,
   "metadata": {
    "id": "_BMrM1ncFz_t"
   },
   "outputs": [],
   "source": [
    "#!/bin/python3\n",
    "\n",
    "import math\n",
    "import os\n",
    "import random\n",
    "import re\n",
    "import sys\n",
    "\n",
    "#\n",
    "# Complete the 'kangaroo' function below.\n",
    "#\n",
    "# The function is expected to return a STRING.\n",
    "# The function accepts following parameters:\n",
    "#  1. INTEGER x1\n",
    "#  2. INTEGER v1\n",
    "#  3. INTEGER x2\n",
    "#  4. INTEGER v2\n",
    "#\n",
    "\n",
    "def kangaroo(x1, v1, x2, v2):\n",
    "    # Write your code here\n",
    "    return (\"YES\" if (x2 - x1) * (v2 - v1) < 0 and (x2 - x1) % (v2 - v1) == 0 else \"NO\")\n",
    "\n",
    "if __name__ == '__main__':\n",
    "    fptr = open(os.environ['OUTPUT_PATH'], 'w')\n",
    "\n",
    "    first_multiple_input = input().rstrip().split()\n",
    "\n",
    "    x1 = int(first_multiple_input[0])\n",
    "\n",
    "    v1 = int(first_multiple_input[1])\n",
    "\n",
    "    x2 = int(first_multiple_input[2])\n",
    "\n",
    "    v2 = int(first_multiple_input[3])\n",
    "\n",
    "    result = kangaroo(x1, v1, x2, v2)\n",
    "\n",
    "    fptr.write(result + '\\n')\n",
    "\n",
    "    fptr.close()\n"
   ]
  },
  {
   "cell_type": "markdown",
   "metadata": {
    "id": "IfL9hYhPF5xa"
   },
   "source": [
    "#### Viral Advertising"
   ]
  },
  {
   "cell_type": "code",
   "execution_count": null,
   "metadata": {
    "id": "eoA7t8WzF-pU"
   },
   "outputs": [],
   "source": [
    "#!/bin/python3\n",
    "\n",
    "import math\n",
    "import os\n",
    "import random\n",
    "import re\n",
    "import sys\n",
    "\n",
    "#\n",
    "# Complete the 'viralAdvertising' function below.\n",
    "#\n",
    "# The function is expected to return an INTEGER.\n",
    "# The function accepts INTEGER n as parameter.\n",
    "#\n",
    "\n",
    "def viralAdvertising(n):\n",
    "    m = [2]\n",
    "    for i in range(n-1):\n",
    "        m.append(int(3*m[i]/2))\n",
    "    return sum(m)\n",
    "\n",
    "if __name__ == '__main__':\n",
    "    fptr = open(os.environ['OUTPUT_PATH'], 'w')\n",
    "\n",
    "    n = int(input().strip())\n",
    "\n",
    "    result = viralAdvertising(n)\n",
    "\n",
    "    fptr.write(str(result) + '\\n')\n",
    "\n",
    "    fptr.close()\n"
   ]
  },
  {
   "cell_type": "markdown",
   "metadata": {
    "id": "C9k6GqWHGEWV"
   },
   "source": [
    "#### Recursive Digit Sum\n",
    "\n"
   ]
  },
  {
   "cell_type": "code",
   "execution_count": null,
   "metadata": {
    "id": "BriN4BgEGPRV"
   },
   "outputs": [],
   "source": [
    "#!/bin/python3\n",
    "\n",
    "import math\n",
    "import os\n",
    "import random\n",
    "import re\n",
    "import sys\n",
    "\n",
    "#\n",
    "# Complete the 'superDigit' function below.\n",
    "#\n",
    "# The function is expected to return an INTEGER.\n",
    "# The function accepts following parameters:\n",
    "#  1. STRING n\n",
    "#  2. INTEGER k\n",
    "#\n",
    "\n",
    "def superDigit(n, k):\n",
    "    x = n * k % 9\n",
    "    if x :\n",
    "        x = x\n",
    "    else: \n",
    "        x = 9\n",
    "    \n",
    "    return x\n",
    "\n",
    "if __name__ == '__main__':\n",
    "    fptr = open(os.environ['OUTPUT_PATH'], 'w')\n",
    "\n",
    "    n,k = map(int,input().split())\n",
    "\n",
    "    result = superDigit(n, k)\n",
    "\n",
    "    fptr.write(str(result) + '\\n')\n",
    "\n",
    "    fptr.close()\n"
   ]
  },
  {
   "cell_type": "markdown",
   "metadata": {
    "id": "nLFcOUOOGLbe"
   },
   "source": [
    "#### Insertion Sort - Part 1"
   ]
  },
  {
   "cell_type": "code",
   "execution_count": null,
   "metadata": {
    "id": "7rqVjR_tGesT"
   },
   "outputs": [],
   "source": [
    "#!/bin/python3\n",
    "\n",
    "import math\n",
    "import os\n",
    "import random\n",
    "import re\n",
    "import sys\n",
    "\n",
    "#\n",
    "# Complete the 'insertionSort1' function below.\n",
    "#\n",
    "# The function accepts following parameters:\n",
    "#  1. INTEGER n\n",
    "#  2. INTEGER_ARRAY arr\n",
    "#\n",
    "    \n",
    "def insertionSort1(n, arr):\n",
    "    i = n-1\n",
    "    item = arr[i]\n",
    "    while(i>0 and item<arr[i-1]):\n",
    "        arr[i] = arr[i-1]\n",
    "        print(*arr)\n",
    "        i-=1\n",
    "    arr[i] = item\n",
    "    print(*arr)\n",
    "\n",
    "if __name__ == '__main__':\n",
    "    n = int(input().strip())\n",
    "\n",
    "    arr = list(map(int, input().rstrip().split()))\n",
    "\n",
    "    insertionSort1(n, arr)\n"
   ]
  },
  {
   "cell_type": "markdown",
   "metadata": {
    "id": "xudv243HGbSX"
   },
   "source": [
    "#### Insertion Sort - Part 2"
   ]
  },
  {
   "cell_type": "code",
   "execution_count": null,
   "metadata": {
    "id": "iOeBpxGdGfvU"
   },
   "outputs": [],
   "source": [
    "n=int(input())\n",
    "arr=list(map(int,input().split()))\n",
    "\n",
    "for i in range(1,n):\n",
    "    while i>0:\n",
    "        if arr[i] < arr[i-1]:\n",
    "            arr[i-1],arr[i]=arr[i],arr[i-1]\n",
    "        i=i-1\n",
    "    print(*arr,sep=\" \")"
   ]
  }
 ],
 "metadata": {
  "colab": {
   "collapsed_sections": [
    "EqAFr-D5FWoL",
    "dFBtTgv5uAM1",
    "W_lDsIMEvT9M",
    "xYd__3bwxypH",
    "qTM7hyg-x1y0",
    "3NGi47_P19A8",
    "Ebrn0-3g6-Xm",
    "OP671EUw7De6",
    "0fV4zSWR7O2F",
    "OtJsy4hN76jN",
    "l_mZlzc-8Bme",
    "h_3X5vUo-Uv2",
    "lsaE9hGUApKS",
    "pWk-4hxAFM6g",
    "IMdtQ_JmFbxO",
    "mSpRjl_fFuAu",
    "IfL9hYhPF5xa",
    "C9k6GqWHGEWV",
    "nLFcOUOOGLbe",
    "xudv243HGbSX"
   ],
   "name": "ADM HW1.ipynb",
   "provenance": []
  },
  "kernelspec": {
   "display_name": "Python 3",
   "language": "python",
   "name": "python3"
  },
  "language_info": {
   "codemirror_mode": {
    "name": "ipython",
    "version": 3
   },
   "file_extension": ".py",
   "mimetype": "text/x-python",
   "name": "python",
   "nbconvert_exporter": "python",
   "pygments_lexer": "ipython3",
   "version": "3.8.3"
  }
 },
 "nbformat": 4,
 "nbformat_minor": 1
}
